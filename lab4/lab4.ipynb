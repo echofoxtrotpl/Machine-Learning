{
 "cells": [
  {
   "cell_type": "code",
   "execution_count": 1,
   "id": "690ad2c9-6693-4d41-99b2-e378695501ce",
   "metadata": {},
   "outputs": [],
   "source": [
    "from sklearn import datasets\n",
    "import numpy as np\n",
    "\n",
    "data_breast_cancer = datasets.load_breast_cancer(as_frame=True)\n",
    "data_iris = datasets.load_iris(as_frame=True)"
   ]
  },
  {
   "cell_type": "code",
   "execution_count": 2,
   "id": "32bfdec6-025f-40c6-9972-8ebd933a1ded",
   "metadata": {},
   "outputs": [],
   "source": [
    "from sklearn.model_selection import train_test_split"
   ]
  },
  {
   "cell_type": "code",
   "execution_count": 3,
   "id": "49f40827-4afd-4c41-bd51-7e73d4df85c7",
   "metadata": {},
   "outputs": [],
   "source": [
    "X = data_breast_cancer.data.iloc[:, 3:5]\n",
    "y = data_breast_cancer.target\n",
    "\n",
    "breast_cancer_X_train, breast_cancer_X_test, breast_cancer_y_train, breast_cancer_y_test = train_test_split(X, y, test_size=0.2, random_state=42)"
   ]
  },
  {
   "cell_type": "code",
   "execution_count": 4,
   "id": "0b17c4cd-e229-4763-adc6-e9e6f624a128",
   "metadata": {},
   "outputs": [],
   "source": [
    "from sklearn.pipeline import Pipeline\n",
    "from sklearn.preprocessing import StandardScaler\n",
    "from sklearn.svm import LinearSVC"
   ]
  },
  {
   "cell_type": "code",
   "execution_count": 5,
   "id": "83a993b7-d97a-4fdf-bf4b-b8956e562d10",
   "metadata": {},
   "outputs": [
    {
     "name": "stderr",
     "output_type": "stream",
     "text": [
      "/opt/homebrew/Caskroom/miniforge/base/envs/ml/lib/python3.9/site-packages/sklearn/svm/_base.py:1206: ConvergenceWarning: Liblinear failed to converge, increase the number of iterations.\n",
      "  warnings.warn(\n"
     ]
    },
    {
     "data": {
      "text/plain": [
       "Pipeline(steps=[('scaler', StandardScaler()),\n",
       "                ('linear_svc', LinearSVC(C=1, loss='hinge', random_state=42))])"
      ]
     },
     "execution_count": 5,
     "metadata": {},
     "output_type": "execute_result"
    }
   ],
   "source": [
    "svm_clf = Pipeline([(\"linear_svc\", LinearSVC(C=1,loss=\"hinge\",random_state=42))])\n",
    "svm_clf_scaled = Pipeline([(\"scaler\", StandardScaler()),(\"linear_svc\", LinearSVC(C=1,loss=\"hinge\",random_state=42))])\n",
    "\n",
    "svm_clf.fit(breast_cancer_X_train, breast_cancer_y_train)\n",
    "svm_clf_scaled.fit(breast_cancer_X_train, breast_cancer_y_train)"
   ]
  },
  {
   "cell_type": "code",
   "execution_count": 6,
   "id": "08efc3f4-0e52-4a71-82fc-043e2ac09794",
   "metadata": {},
   "outputs": [],
   "source": [
    "train_svm_clf_score = svm_clf.score(breast_cancer_X_train, breast_cancer_y_train)\n",
    "test_svm_clf_score = svm_clf.score(breast_cancer_X_test, breast_cancer_y_test)\n",
    "\n",
    "train_svm_clf_scaled_score = svm_clf_scaled.score(breast_cancer_X_train, breast_cancer_y_train)\n",
    "test_svm_clf_scaled_score = svm_clf_scaled.score(breast_cancer_X_test, breast_cancer_y_test)"
   ]
  },
  {
   "cell_type": "code",
   "execution_count": 7,
   "id": "c01cf9d8-a131-47dd-9dc4-80eb2ec8dc01",
   "metadata": {},
   "outputs": [
    {
     "name": "stdout",
     "output_type": "stream",
     "text": [
      "[0.6285714285714286, 0.6228070175438597, 0.8923076923076924, 0.9298245614035088]\n"
     ]
    }
   ],
   "source": [
    "import pickle\n",
    "\n",
    "scores = [train_svm_clf_score, test_svm_clf_score, train_svm_clf_scaled_score, test_svm_clf_scaled_score]\n",
    "print(scores)\n",
    "\n",
    "with open('bc_acc.pkl', 'wb') as f:\n",
    "    pickle.dump(scores, f)"
   ]
  },
  {
   "cell_type": "code",
   "execution_count": 8,
   "id": "936ff8e5-f885-4cfb-9f61-6b83ee6f9b6e",
   "metadata": {},
   "outputs": [],
   "source": [
    "X = data_iris.data.iloc[:, 2:4]\n",
    "y = (data_iris.target == 2)\n",
    "\n",
    "iris_X_train, iris_X_test, iris_y_train, iris_y_test = train_test_split(X, y, test_size=0.2, random_state=42)"
   ]
  },
  {
   "cell_type": "code",
   "execution_count": 9,
   "id": "79458004-c03f-4652-ade7-d107a7b8e2db",
   "metadata": {},
   "outputs": [
    {
     "name": "stderr",
     "output_type": "stream",
     "text": [
      "/opt/homebrew/Caskroom/miniforge/base/envs/ml/lib/python3.9/site-packages/sklearn/svm/_base.py:1206: ConvergenceWarning: Liblinear failed to converge, increase the number of iterations.\n",
      "  warnings.warn(\n"
     ]
    },
    {
     "data": {
      "text/plain": [
       "Pipeline(steps=[('scaler', StandardScaler()),\n",
       "                ('linear_svc', LinearSVC(C=1, loss='hinge', random_state=42))])"
      ]
     },
     "execution_count": 9,
     "metadata": {},
     "output_type": "execute_result"
    }
   ],
   "source": [
    "svm_clf_i = Pipeline([(\"linear_svc\", LinearSVC(C=1,loss=\"hinge\",random_state=42))])\n",
    "svm_clf_i_scaled = Pipeline([(\"scaler\", StandardScaler()),(\"linear_svc\", LinearSVC(C=1,loss=\"hinge\",random_state=42))])\n",
    "\n",
    "svm_clf_i.fit(iris_X_train, iris_y_train)\n",
    "svm_clf_i_scaled.fit(iris_X_train, iris_y_train)"
   ]
  },
  {
   "cell_type": "code",
   "execution_count": 10,
   "id": "7286647a-3f8d-41d1-b0c1-4a81a1d71309",
   "metadata": {},
   "outputs": [],
   "source": [
    "train_svm_clf_score = svm_clf_i.score(iris_X_train, iris_y_train)\n",
    "test_svm_clf_score = svm_clf_i.score(iris_X_test, iris_y_test)\n",
    "\n",
    "train_svm_clf_scaled_score = svm_clf_i_scaled.score(iris_X_train, iris_y_train)\n",
    "test_svm_clf_scaled_score = svm_clf_i_scaled.score(iris_X_test, iris_y_test)"
   ]
  },
  {
   "cell_type": "code",
   "execution_count": 11,
   "id": "78c65cea-f93a-4181-aeb7-165905a838f0",
   "metadata": {},
   "outputs": [
    {
     "name": "stdout",
     "output_type": "stream",
     "text": [
      "[0.9416666666666667, 1.0, 0.9416666666666667, 1.0]\n"
     ]
    }
   ],
   "source": [
    "scores = [train_svm_clf_score, test_svm_clf_score, train_svm_clf_scaled_score, test_svm_clf_scaled_score]\n",
    "print(scores)\n",
    "\n",
    "with open('iris_acc.pkl', 'wb') as f:\n",
    "    pickle.dump(scores, f)"
   ]
  }
 ],
 "metadata": {
  "kernelspec": {
   "display_name": "Python 3 (ipykernel)",
   "language": "python",
   "name": "python3"
  },
  "language_info": {
   "codemirror_mode": {
    "name": "ipython",
    "version": 3
   },
   "file_extension": ".py",
   "mimetype": "text/x-python",
   "name": "python",
   "nbconvert_exporter": "python",
   "pygments_lexer": "ipython3",
   "version": "3.9.10"
  }
 },
 "nbformat": 4,
 "nbformat_minor": 5
}
