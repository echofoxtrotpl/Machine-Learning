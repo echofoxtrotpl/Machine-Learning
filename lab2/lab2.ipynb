{
 "cells": [
  {
   "cell_type": "code",
   "execution_count": 1,
   "id": "f0610f3f-1d6f-47d5-a7f5-98eec2b91314",
   "metadata": {},
   "outputs": [],
   "source": [
    "from sklearn.datasets import fetch_openml\n",
    "\n",
    "mnist = fetch_openml('mnist_784', version=1)"
   ]
  },
  {
   "cell_type": "code",
   "execution_count": 2,
   "id": "894dc6ca-8a5b-4ba9-94ac-bd3866f0d685",
   "metadata": {},
   "outputs": [],
   "source": [
    "import numpy as np\n",
    "\n",
    "X = mnist.data\n",
    "y = mnist.target.astype(np.uint8)\n",
    "\n",
    "y = y.sort_values()\n",
    "X = X.reindex(y.index)"
   ]
  },
  {
   "cell_type": "code",
   "execution_count": 3,
   "id": "326e4bef-eb33-41d4-8e9d-a7fb8514560a",
   "metadata": {},
   "outputs": [
    {
     "data": {
      "text/plain": [
       "Int64Index([34999, 56424, 56419, 16705, 56415, 56404, 56397, 56389, 56388,\n",
       "            56429,\n",
       "            ...\n",
       "            13698, 33531, 13695, 13692, 58898, 13687, 42651, 58914, 13678,\n",
       "            58529],\n",
       "           dtype='int64', length=70000)"
      ]
     },
     "execution_count": 3,
     "metadata": {},
     "output_type": "execute_result"
    }
   ],
   "source": [
    "y.index"
   ]
  },
  {
   "cell_type": "code",
   "execution_count": 4,
   "id": "be5c57fb-63a8-4b52-ba06-4084116974e1",
   "metadata": {},
   "outputs": [
    {
     "data": {
      "text/plain": [
       "Int64Index([34999, 56424, 56419, 16705, 56415, 56404, 56397, 56389, 56388,\n",
       "            56429,\n",
       "            ...\n",
       "            13698, 33531, 13695, 13692, 58898, 13687, 42651, 58914, 13678,\n",
       "            58529],\n",
       "           dtype='int64', length=70000)"
      ]
     },
     "execution_count": 4,
     "metadata": {},
     "output_type": "execute_result"
    }
   ],
   "source": [
    "X.index"
   ]
  },
  {
   "cell_type": "code",
   "execution_count": 5,
   "id": "b5f50de1-91be-4211-9c13-25c7ad4d143d",
   "metadata": {},
   "outputs": [
    {
     "name": "stdout",
     "output_type": "stream",
     "text": [
      "(56000, 784) (56000,)\n",
      "(14000, 784) (14000,)\n"
     ]
    }
   ],
   "source": [
    "X_train, X_test = X[:56000], X[56000:]\n",
    "y_train, y_test = y[:56000], y[56000:]\n",
    "\n",
    "print(X_train.shape, y_train.shape)\n",
    "print(X_test.shape, y_test.shape)"
   ]
  },
  {
   "cell_type": "code",
   "execution_count": 6,
   "id": "e8a1fe38-a55d-465a-9076-d1bf01dfb090",
   "metadata": {},
   "outputs": [
    {
     "data": {
      "text/plain": [
       "array([0, 1, 2, 3, 4, 5, 6, 7], dtype=uint8)"
      ]
     },
     "execution_count": 6,
     "metadata": {},
     "output_type": "execute_result"
    }
   ],
   "source": [
    "np.unique(y_train)"
   ]
  },
  {
   "cell_type": "code",
   "execution_count": 7,
   "id": "6d826736-aa90-452a-b3c8-14d91d152700",
   "metadata": {},
   "outputs": [
    {
     "data": {
      "text/plain": [
       "array([7, 8, 9], dtype=uint8)"
      ]
     },
     "execution_count": 7,
     "metadata": {},
     "output_type": "execute_result"
    }
   ],
   "source": [
    "np.unique(y_test)"
   ]
  },
  {
   "cell_type": "code",
   "execution_count": 8,
   "id": "b639bfb5-a5b9-48e3-9279-0a3c5c676d75",
   "metadata": {},
   "outputs": [
    {
     "name": "stdout",
     "output_type": "stream",
     "text": [
      "(56000, 784) (56000,)\n",
      "(14000, 784) (14000,)\n"
     ]
    }
   ],
   "source": [
    "from sklearn.model_selection import train_test_split\n",
    "\n",
    "X_train, X_test, y_train, y_test = train_test_split(X, y, test_size=0.2, random_state=42)\n",
    "\n",
    "print(X_train.shape, y_train.shape)\n",
    "print(X_test.shape, y_test.shape)"
   ]
  },
  {
   "cell_type": "code",
   "execution_count": 9,
   "id": "08aade54-3ff7-4c2c-8a2f-08fcf918d693",
   "metadata": {},
   "outputs": [
    {
     "data": {
      "text/plain": [
       "array([0, 1, 2, 3, 4, 5, 6, 7, 8, 9], dtype=uint8)"
      ]
     },
     "execution_count": 9,
     "metadata": {},
     "output_type": "execute_result"
    }
   ],
   "source": [
    "np.unique(y_train)"
   ]
  },
  {
   "cell_type": "code",
   "execution_count": 10,
   "id": "38e4e602-f51e-4ffa-91f5-174e9b57d400",
   "metadata": {},
   "outputs": [
    {
     "data": {
      "text/plain": [
       "array([0, 1, 2, 3, 4, 5, 6, 7, 8, 9], dtype=uint8)"
      ]
     },
     "execution_count": 10,
     "metadata": {},
     "output_type": "execute_result"
    }
   ],
   "source": [
    "np.unique(y_test)"
   ]
  },
  {
   "cell_type": "code",
   "execution_count": 11,
   "id": "963afc32-383f-4729-9cb4-b166c89fc4ea",
   "metadata": {},
   "outputs": [
    {
     "data": {
      "text/plain": [
       "SGDClassifier(n_jobs=-1, random_state=42)"
      ]
     },
     "execution_count": 11,
     "metadata": {},
     "output_type": "execute_result"
    }
   ],
   "source": [
    "from sklearn.linear_model import SGDClassifier\n",
    "\n",
    "clf = SGDClassifier(random_state=42, n_jobs=-1)\n",
    "\n",
    "y_test_0 = (y_test == 0)\n",
    "y_train_0 = (y_train == 0)\n",
    "\n",
    "clf.fit(X_train, y_train_0)"
   ]
  },
  {
   "cell_type": "code",
   "execution_count": 12,
   "id": "b60e1fee-bb75-4e56-8ea4-dd1802cf5d6c",
   "metadata": {},
   "outputs": [
    {
     "name": "stdout",
     "output_type": "stream",
     "text": [
      "[0.9832142857142857, 0.9818571428571429]\n"
     ]
    }
   ],
   "source": [
    "import pickle\n",
    "\n",
    "scores = [clf.score(X_train, y_train_0), clf.score(X_test, y_test_0)]\n",
    "print(scores)\n",
    "\n",
    "with open('sgd_acc.pkl', 'wb') as f1:\n",
    "    pickle.dump(scores, f1)"
   ]
  },
  {
   "cell_type": "code",
   "execution_count": 13,
   "id": "a5d02b44-9100-495b-b8b2-2a08e4dc86a1",
   "metadata": {},
   "outputs": [
    {
     "name": "stdout",
     "output_type": "stream",
     "text": [
      "[0.98842878 0.98805378 0.98799957]\n"
     ]
    }
   ],
   "source": [
    "from sklearn.model_selection import cross_val_score, cross_val_predict\n",
    "\n",
    "train_cross = cross_val_score(clf, X_train, y_train_0, cv=3, scoring=\"accuracy\", n_jobs=-1)\n",
    "print(train_cross)"
   ]
  },
  {
   "cell_type": "code",
   "execution_count": 14,
   "id": "12730ec4-5636-49df-8502-df1735323a33",
   "metadata": {},
   "outputs": [],
   "source": [
    "with open('sgd_cva.pkl', 'wb') as f2:\n",
    "    pickle.dump(train_cross, f2)"
   ]
  },
  {
   "cell_type": "code",
   "execution_count": 15,
   "id": "b379d9f1-1995-455b-b1b8-5da63adea32e",
   "metadata": {},
   "outputs": [
    {
     "data": {
      "text/plain": [
       "SGDClassifier(n_jobs=-1, random_state=42)"
      ]
     },
     "execution_count": 15,
     "metadata": {},
     "output_type": "execute_result"
    }
   ],
   "source": [
    "clf_all = SGDClassifier(random_state=42, n_jobs=-1)\n",
    "clf_all.fit(X_train, y_train)"
   ]
  },
  {
   "cell_type": "code",
   "execution_count": 16,
   "id": "4a605067-bfc7-4d65-b2e6-3dc4d6d8bc6a",
   "metadata": {},
   "outputs": [],
   "source": [
    "y_test_pred = cross_val_predict(clf_all, X_test, y_test, cv = 3, n_jobs = -1)"
   ]
  },
  {
   "cell_type": "code",
   "execution_count": 17,
   "id": "3e372cf4-1ddf-46fb-a1d7-cae71bd53c0c",
   "metadata": {},
   "outputs": [
    {
     "data": {
      "text/plain": [
       "array([[1310,    0,    5,    5,    1,    9,   15,    1,   17,    2],\n",
       "       [   1, 1514,    9,    4,    3,    6,    7,    3,   37,    8],\n",
       "       [  23,   17, 1138,   35,   21,   15,   26,   20,   80,   14],\n",
       "       [   9,    6,   39, 1144,    7,   72,    8,   11,   65,   33],\n",
       "       [  11,    3,    7,    4, 1209,   11,   15,    4,   26,   76],\n",
       "       [  21,   11,    9,   67,   29, 1047,   37,    4,   64,   21],\n",
       "       [  11,    3,   11,    2,   15,   36, 1307,    1,   12,    1],\n",
       "       [   5,    7,   15,    8,   25,    9,    2, 1210,   14,  148],\n",
       "       [  15,   31,   23,   39,   22,   76,    5,    5, 1103,   51],\n",
       "       [   9,    4,    3,   16,   55,   23,    0,   40,   31, 1191]])"
      ]
     },
     "execution_count": 17,
     "metadata": {},
     "output_type": "execute_result"
    }
   ],
   "source": [
    "from sklearn.metrics import confusion_matrix\n",
    "\n",
    "conf_m = confusion_matrix(y_test, y_test_pred)\n",
    "\n",
    "conf_m"
   ]
  },
  {
   "cell_type": "code",
   "execution_count": 18,
   "id": "218ca7ae-bdc7-42ea-9c67-2b7a6d4c9b82",
   "metadata": {},
   "outputs": [],
   "source": [
    "with open('sgd_cmx.pkl', 'wb') as f3:\n",
    "    pickle.dump(conf_m, f3)"
   ]
  },
  {
   "cell_type": "code",
   "execution_count": null,
   "id": "4c8efdef-0d96-4742-a413-9a942e8ff437",
   "metadata": {},
   "outputs": [],
   "source": []
  }
 ],
 "metadata": {
  "kernelspec": {
   "display_name": "Python 3 (ipykernel)",
   "language": "python",
   "name": "python3"
  },
  "language_info": {
   "codemirror_mode": {
    "name": "ipython",
    "version": 3
   },
   "file_extension": ".py",
   "mimetype": "text/x-python",
   "name": "python",
   "nbconvert_exporter": "python",
   "pygments_lexer": "ipython3",
   "version": "3.9.10"
  }
 },
 "nbformat": 4,
 "nbformat_minor": 5
}
